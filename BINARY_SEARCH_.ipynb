{
  "nbformat": 4,
  "nbformat_minor": 0,
  "metadata": {
    "colab": {
      "provenance": []
    },
    "kernelspec": {
      "name": "python3",
      "display_name": "Python 3"
    },
    "language_info": {
      "name": "python"
    }
  },
  "cells": [
    {
      "cell_type": "code",
      "execution_count": 1,
      "metadata": {
        "colab": {
          "base_uri": "https://localhost:8080/"
        },
        "id": "Np0tf_ma7tVv",
        "outputId": "40f1ea49-f497-4653-df0a-a477ba628a84"
      },
      "outputs": [
        {
          "output_type": "stream",
          "name": "stdout",
          "text": [
            "Enter the number you want to search for: 4\n",
            "Element 4 not found in the array.\n"
          ]
        }
      ],
      "source": [
        "# Binary Search Python Project\n",
        "\n",
        "# Binary Search function\n",
        "def binary_search(arr, target):\n",
        "    # Define the initial left and right pointers\n",
        "    left = 0\n",
        "    right = len(arr) - 1\n",
        "\n",
        "    while left <= right:\n",
        "        # Find the middle index\n",
        "        mid = (left + right) // 2\n",
        "\n",
        "        # Check if the target is at the mid position\n",
        "        if arr[mid] == target:\n",
        "            return mid  # Return the index if the element is found\n",
        "        # If the target is smaller, search in the left half\n",
        "        elif arr[mid] > target:\n",
        "            right = mid - 1\n",
        "        # If the target is larger, search in the right half\n",
        "        else:\n",
        "            left = mid + 1\n",
        "\n",
        "    # If the element is not found\n",
        "    return -1\n",
        "\n",
        "# Main function to run the binary search\n",
        "def main():\n",
        "    # Example sorted list\n",
        "    arr = [1, 3, 5, 7, 9, 11, 13, 15, 17, 19, 21]\n",
        "\n",
        "    # Get the target value from the user\n",
        "    target = int(input(\"Enter the number you want to search for: \"))\n",
        "\n",
        "    # Call binary_search function\n",
        "    result = binary_search(arr, target)\n",
        "\n",
        "    # Check the result and print the appropriate message\n",
        "    if result != -1:\n",
        "        print(f\"Element {target} found at index {result}.\")\n",
        "    else:\n",
        "        print(f\"Element {target} not found in the array.\")\n",
        "\n",
        "# Start the program\n",
        "if __name__ == '__main__':\n",
        "    main()\n"
      ]
    }
  ]
}