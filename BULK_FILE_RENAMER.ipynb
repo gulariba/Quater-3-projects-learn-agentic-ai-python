{
  "nbformat": 4,
  "nbformat_minor": 0,
  "metadata": {
    "colab": {
      "provenance": []
    },
    "kernelspec": {
      "name": "python3",
      "display_name": "Python 3"
    },
    "language_info": {
      "name": "python"
    }
  },
  "cells": [
    {
      "cell_type": "code",
      "execution_count": 1,
      "metadata": {
        "colab": {
          "base_uri": "https://localhost:8080/"
        },
        "id": "omP4fmGI8Y87",
        "outputId": "40f7fd82-6e90-4822-de2f-8f4146ebf98d"
      },
      "outputs": [
        {
          "output_type": "stream",
          "name": "stdout",
          "text": [
            "Enter the path to the folder containing the files: DF\\\n",
            "The specified path is not a valid directory.\n"
          ]
        }
      ],
      "source": [
        "import os\n",
        "\n",
        "# Function to rename the files in a folder\n",
        "def bulk_rename_files(directory, prefix=None, suffix=None, start_number=1):\n",
        "    # Get the list of files in the directory\n",
        "    files = os.listdir(directory)\n",
        "\n",
        "    # Filter out directories, only rename files\n",
        "    files = [f for f in files if os.path.isfile(os.path.join(directory, f))]\n",
        "\n",
        "    # Loop through each file and rename it\n",
        "    for idx, file_name in enumerate(files):\n",
        "        # Split the file name into the name and extension\n",
        "        name, ext = os.path.splitext(file_name)\n",
        "\n",
        "        # Build the new name with the specified pattern (prefix, suffix, numbering)\n",
        "        new_name = \"\"\n",
        "        if prefix:\n",
        "            new_name += prefix\n",
        "        if suffix:\n",
        "            new_name += name + suffix\n",
        "        else:\n",
        "            new_name += name\n",
        "        new_name += ext\n",
        "\n",
        "        # Create the full path for the old and new filenames\n",
        "        old_file = os.path.join(directory, file_name)\n",
        "        new_file = os.path.join(directory, new_name)\n",
        "\n",
        "        # Rename the file\n",
        "        os.rename(old_file, new_file)\n",
        "        print(f\"Renamed: {file_name} --> {new_name}\")\n",
        "\n",
        "    print(\"Renaming completed!\")\n",
        "\n",
        "# Main function to prompt the user for input\n",
        "def main():\n",
        "    directory = input(\"Enter the path to the folder containing the files: \")\n",
        "    if not os.path.isdir(directory):\n",
        "        print(\"The specified path is not a valid directory.\")\n",
        "        return\n",
        "\n",
        "    # Asking user for the renaming pattern\n",
        "    prefix = input(\"Enter a prefix (or leave empty): \")\n",
        "    suffix = input(\"Enter a suffix (or leave empty): \")\n",
        "    try:\n",
        "        start_number = int(input(\"Enter the starting number for renaming: \"))\n",
        "    except ValueError:\n",
        "        print(\"Invalid input! Starting number must be an integer. Defaulting to 1.\")\n",
        "        start_number = 1\n",
        "\n",
        "    # Calling the bulk_rename_files function\n",
        "    bulk_rename_files(directory, prefix, suffix, start_number)\n",
        "\n",
        "# Start the program\n",
        "if __name__ == \"__main__\":\n",
        "    main()\n"
      ]
    }
  ]
}