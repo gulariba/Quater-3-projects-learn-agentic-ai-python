{
  "nbformat": 4,
  "nbformat_minor": 0,
  "metadata": {
    "colab": {
      "provenance": []
    },
    "kernelspec": {
      "name": "python3",
      "display_name": "Python 3"
    },
    "language_info": {
      "name": "python"
    }
  },
  "cells": [
    {
      "cell_type": "code",
      "execution_count": 1,
      "metadata": {
        "colab": {
          "base_uri": "https://localhost:8080/"
        },
        "id": "adO5QTR-0LBr",
        "outputId": "f4237406-2649-4873-8d18-2c4fab6c1c08"
      },
      "outputs": [
        {
          "output_type": "stream",
          "name": "stdout",
          "text": [
            "Collecting qrcode[pil]\n",
            "  Downloading qrcode-8.1-py3-none-any.whl.metadata (17 kB)\n",
            "Requirement already satisfied: pillow>=9.1.0 in /usr/local/lib/python3.11/dist-packages (from qrcode[pil]) (11.1.0)\n",
            "Downloading qrcode-8.1-py3-none-any.whl (45 kB)\n",
            "\u001b[2K   \u001b[90m━━━━━━━━━━━━━━━━━━━━━━━━━━━━━━━━━━━━━━━━\u001b[0m \u001b[32m45.7/45.7 kB\u001b[0m \u001b[31m1.5 MB/s\u001b[0m eta \u001b[36m0:00:00\u001b[0m\n",
            "\u001b[?25hInstalling collected packages: qrcode\n",
            "Successfully installed qrcode-8.1\n",
            "Requirement already satisfied: opencv-python-headless in /usr/local/lib/python3.11/dist-packages (4.11.0.86)\n",
            "Requirement already satisfied: numpy>=1.21.2 in /usr/local/lib/python3.11/dist-packages (from opencv-python-headless) (2.0.2)\n",
            "Requirement already satisfied: pillow in /usr/local/lib/python3.11/dist-packages (11.1.0)\n"
          ]
        }
      ],
      "source": [
        "!pip install qrcode[pil]\n",
        "!pip install opencv-python-headless\n",
        "!pip install pillow"
      ]
    },
    {
      "cell_type": "code",
      "source": [
        "# Install required libraries\n",
        "!pip install qrcode[pil]\n",
        "!pip install opencv-python-headless\n",
        "!pip install pillow\n",
        "\n",
        "# QR Code Generator (Encoder)\n",
        "import qrcode\n",
        "from PIL import Image\n",
        "\n",
        "def generate_qr_code(data):\n",
        "    qr = qrcode.QRCode(version=1, box_size=10, border=5)\n",
        "    qr.add_data(data)\n",
        "    qr.make(fit=True)\n",
        "    img = qr.make_image(fill_color=\"black\", back_color=\"white\")\n",
        "    img.show()\n",
        "    img.save(\"generated_qr_code.png\")\n",
        "    print(\"QR Code saved as 'generated_qr_code.png'\")\n",
        "\n",
        "# QR Code Decoder (Reader)\n",
        "import cv2\n",
        "\n",
        "def decode_qr_code(image_path):\n",
        "    detector = cv2.QRCodeDetector()\n",
        "    img = cv2.imread(image_path)\n",
        "    data, points, straight_qrcode = detector.detectAndDecode(img)\n",
        "\n",
        "    if data:\n",
        "        print(f\"Decoded data: {data}\")\n",
        "    else:\n",
        "        print(\"No QR code detected.\")\n",
        "\n",
        "# Example usage\n",
        "data = \"Hello from Areeba! This is your QR code.\"\n",
        "generate_qr_code(data)\n",
        "\n",
        "# Decode the generated QR code\n",
        "decode_qr_code(\"generated_qr_code.png\")\n"
      ],
      "metadata": {
        "colab": {
          "base_uri": "https://localhost:8080/"
        },
        "id": "YmaaXAjd0pp1",
        "outputId": "e22904bc-31c7-4661-ac88-6a997373bccb"
      },
      "execution_count": 2,
      "outputs": [
        {
          "output_type": "stream",
          "name": "stdout",
          "text": [
            "Requirement already satisfied: qrcode[pil] in /usr/local/lib/python3.11/dist-packages (8.1)\n",
            "Requirement already satisfied: pillow>=9.1.0 in /usr/local/lib/python3.11/dist-packages (from qrcode[pil]) (11.1.0)\n",
            "Requirement already satisfied: opencv-python-headless in /usr/local/lib/python3.11/dist-packages (4.11.0.86)\n",
            "Requirement already satisfied: numpy>=1.21.2 in /usr/local/lib/python3.11/dist-packages (from opencv-python-headless) (2.0.2)\n",
            "Requirement already satisfied: pillow in /usr/local/lib/python3.11/dist-packages (11.1.0)\n",
            "QR Code saved as 'generated_qr_code.png'\n",
            "Decoded data: Hello from Areeba! This is your QR code.\n"
          ]
        }
      ]
    }
  ]
}