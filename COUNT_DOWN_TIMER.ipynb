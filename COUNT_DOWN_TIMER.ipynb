{
  "nbformat": 4,
  "nbformat_minor": 0,
  "metadata": {
    "colab": {
      "provenance": []
    },
    "kernelspec": {
      "name": "python3",
      "display_name": "Python 3"
    },
    "language_info": {
      "name": "python"
    }
  },
  "cells": [
    {
      "cell_type": "code",
      "execution_count": null,
      "metadata": {
        "colab": {
          "base_uri": "https://localhost:8080/"
        },
        "id": "VR0HORv-XtGA",
        "outputId": "ef713292-65e6-4e07-9799-1866a04d9e7e"
      },
      "outputs": [
        {
          "output_type": "stream",
          "name": "stdout",
          "text": [
            "Enter minutes: 1\n",
            "Enter seconds: 60\n"
          ]
        }
      ],
      "source": [
        "# Countdown Timer in Python ⏳\n",
        "\n",
        "import time\n",
        "\n",
        "def countdown_timer(minutes, seconds):\n",
        "    # Convert total time to seconds\n",
        "    total_seconds = minutes * 60 + seconds\n",
        "\n",
        "    while total_seconds > 0:\n",
        "        # Calculate minutes and seconds left\n",
        "        mins_left = total_seconds // 60\n",
        "        secs_left = total_seconds % 60\n",
        "\n",
        "        # Format the timer display\n",
        "        timer_display = f\"{mins_left:02}:{secs_left:02}\"\n",
        "        print(f\"Time remaining: {timer_display}\", end=\"\\r\")  # Overwrites the previous line\n",
        "\n",
        "        # Wait for 1 second\n",
        "        time.sleep(1)\n",
        "\n",
        "        # Decrease total time by 1 second\n",
        "        total_seconds -= 1\n",
        "\n",
        "    # When timer finishes\n",
        "    print(\"\\nTime's up! ⏰\")\n",
        "\n",
        "# Example usage:\n",
        "minutes = int(input(\"Enter minutes: \"))\n",
        "seconds = int(input(\"Enter seconds: \"))\n",
        "\n",
        "countdown_timer(minutes, seconds)\n"
      ]
    }
  ]
}