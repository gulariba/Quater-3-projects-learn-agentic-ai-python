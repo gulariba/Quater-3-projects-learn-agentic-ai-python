{
  "nbformat": 4,
  "nbformat_minor": 0,
  "metadata": {
    "colab": {
      "provenance": []
    },
    "kernelspec": {
      "name": "python3",
      "display_name": "Python 3"
    },
    "language_info": {
      "name": "python"
    }
  },
  "cells": [
    {
      "cell_type": "code",
      "source": [
        "# Guess the Number Game 🎯\n",
        "import random\n",
        "\n",
        "# Computer chooses a random number between 1 and 100\n",
        "secret_number = random.randint(1, 100)\n",
        "\n",
        "print(\"Welcome to the Guess the Number Game!\")\n",
        "print(\"I'm thinking of a number between 1 and 100. Can you guess it?\")\n",
        "\n",
        "# User guesses loop\n",
        "attempts = 0\n",
        "\n",
        "while True:\n",
        "    try:\n",
        "        guess = int(input(\"Enter your guess: \"))\n",
        "        attempts += 1\n",
        "\n",
        "        if guess < secret_number:\n",
        "            print(\"Too low! Try again.\")\n",
        "        elif guess > secret_number:\n",
        "            print(\"Too high! Try again.\")\n",
        "        else:\n",
        "            print(f\"🎉 Congratulations! You guessed it right in {attempts} attempts.\")\n",
        "            break  # Loop se bahar nikal jao\n",
        "    except ValueError:\n",
        "        print(\"Please enter a valid number.\")\n"
      ],
      "metadata": {
        "colab": {
          "base_uri": "https://localhost:8080/"
        },
        "id": "JuCXZ_75TbkW",
        "outputId": "2737807b-3b29-4771-d55f-a1a09a1fa0f4"
      },
      "execution_count": 4,
      "outputs": [
        {
          "output_type": "stream",
          "name": "stdout",
          "text": [
            "Welcome to the Guess the Number Game!\n",
            "I'm thinking of a number between 1 and 100. Can you guess it?\n",
            "Enter your guess: 40\n",
            "Too low! Try again.\n",
            "Enter your guess: 50\n",
            "Too low! Try again.\n",
            "Enter your guess: 70\n",
            "Too low! Try again.\n",
            "Enter your guess: 60\n",
            "Too low! Try again.\n",
            "Enter your guess: 80\n",
            "Too high! Try again.\n",
            "Enter your guess: 90\n",
            "Too high! Try again.\n",
            "Enter your guess: 99\n",
            "Too high! Try again.\n",
            "Enter your guess: 99\n",
            "Too high! Try again.\n",
            "Enter your guess: 99\n",
            "Too high! Try again.\n",
            "Enter your guess: 98\n",
            "Too high! Try again.\n",
            "Enter your guess: 77\n",
            "Too high! Try again.\n",
            "Enter your guess: 88\n",
            "Too high! Try again.\n",
            "Enter your guess: 99\n",
            "Too high! Try again.\n",
            "Enter your guess: 100\n",
            "Too high! Try again.\n",
            "Enter your guess: 50\n",
            "Too low! Try again.\n",
            "Enter your guess: 60\n",
            "Too low! Try again.\n",
            "Enter your guess: 70\n",
            "Too low! Try again.\n",
            "Enter your guess: 80\n",
            "Too high! Try again.\n",
            "Enter your guess: 75\n",
            "Too high! Try again.\n",
            "Enter your guess: 70\n",
            "Too low! Try again.\n",
            "Enter your guess: 72\n",
            "Too low! Try again.\n",
            "Enter your guess: 73\n",
            "Too low! Try again.\n",
            "Enter your guess: 74\n",
            "🎉 Congratulations! You guessed it right in 23 attempts.\n"
          ]
        }
      ]
    }
  ]
}