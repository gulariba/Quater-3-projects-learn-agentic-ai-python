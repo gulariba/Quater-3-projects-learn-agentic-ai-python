{
  "nbformat": 4,
  "nbformat_minor": 0,
  "metadata": {
    "colab": {
      "provenance": []
    },
    "kernelspec": {
      "name": "python3",
      "display_name": "Python 3"
    },
    "language_info": {
      "name": "python"
    }
  },
  "cells": [
    {
      "cell_type": "code",
      "execution_count": 1,
      "metadata": {
        "colab": {
          "base_uri": "https://localhost:8080/"
        },
        "id": "zldAWMoEUoLk",
        "outputId": "053e16d1-6a2c-4ff4-e604-5da9576a020c"
      },
      "outputs": [
        {
          "output_type": "stream",
          "name": "stdout",
          "text": [
            "Think of a number between 1 and 100.\n",
            "I will try to guess it!\n",
            "Type 'h' if my guess is too high, 'l' if it's too low, 'c' if it's correct.\n",
            "My guess #1: 50\n",
            "Your feedback (h/l/c): L\n",
            "My guess #2: 75\n",
            "Your feedback (h/l/c): h\n",
            "My guess #3: 62\n",
            "Your feedback (h/l/c): l\n",
            "My guess #4: 68\n",
            "Your feedback (h/l/c): c\n",
            "🎉 Yay! I guessed your number in 4 attempts.\n"
          ]
        }
      ],
      "source": [
        "# Guess the Number Game (User picks, Computer guesses) 🤖\n",
        "\n",
        "def guess_number():\n",
        "    low = 1\n",
        "    high = 100\n",
        "    feedback = ''\n",
        "    attempts = 0\n",
        "\n",
        "    print(\"Think of a number between 1 and 100.\")\n",
        "    print(\"I will try to guess it!\")\n",
        "    print(\"Type 'h' if my guess is too high, 'l' if it's too low, 'c' if it's correct.\")\n",
        "\n",
        "    while feedback != 'c':\n",
        "        if low > high:\n",
        "            print(\"Hmm... You sure you're being honest? 😅\")\n",
        "            break\n",
        "\n",
        "        guess = (low + high) // 2\n",
        "        attempts += 1\n",
        "        print(f\"My guess #{attempts}: {guess}\")\n",
        "        feedback = input(\"Your feedback (h/l/c): \").lower()\n",
        "\n",
        "        if feedback == 'h':\n",
        "            high = guess - 1\n",
        "        elif feedback == 'l':\n",
        "            low = guess + 1\n",
        "        elif feedback == 'c':\n",
        "            print(f\"🎉 Yay! I guessed your number in {attempts} attempts.\")\n",
        "        else:\n",
        "            print(\"Invalid input. Please enter 'h', 'l', or 'c'.\")\n",
        "\n",
        "guess_number()\n"
      ]
    }
  ]
}