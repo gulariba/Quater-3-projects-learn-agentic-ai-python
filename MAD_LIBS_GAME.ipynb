{
  "nbformat": 4,
  "nbformat_minor": 0,
  "metadata": {
    "colab": {
      "provenance": []
    },
    "kernelspec": {
      "name": "python3",
      "display_name": "Python 3"
    },
    "language_info": {
      "name": "python"
    }
  },
  "cells": [
    {
      "cell_type": "markdown",
      "source": [
        "Mad Libs\n",
        "Mad Libs ek game jaisa program hota hai jahan user se kuch words liye jaate hain (like noun, verb, adjective), aur un words ko ek story mein daal diya jaata hai. Phir wo story funny ban jaati hai."
      ],
      "metadata": {
        "id": "qXJH9PXrNiGO"
      }
    },
    {
      "cell_type": "code",
      "source": [
        "# Mad Libs Game 🎉\n",
        "\n",
        "# User se inputs lena\n",
        "name = input(\"Enter your name: \")\n",
        "place = input(\"Enter a place: \")\n",
        "adjective = input(\"Enter an adjective: \")\n",
        "noun = input(\"Enter a noun: \")\n",
        "verb = input(\"Enter a verb (action): \")\n",
        "emotion = input(\"Enter an emotion: \")\n",
        "\n",
        "# Story bana rahe hain\n",
        "story = f\"\"\"\n",
        "Once upon a time, there was a person named {name} who lived in {place}.\n",
        "They had a very {adjective} {noun}.\n",
        "Every day, they would {verb} with it.\n",
        "It made them feel so {emotion}!\n",
        "\n",
        "And that's how the adventure of {name} began!\n",
        "\"\"\"\n",
        "\n",
        "# Story print karna\n",
        "print(\"\\nYour Mad Libs Story:\")\n",
        "print(story)\n"
      ],
      "metadata": {
        "colab": {
          "base_uri": "https://localhost:8080/"
        },
        "id": "CXhxVd3UOsRm",
        "outputId": "af52e27c-34c9-4a51-dc01-b976038ea7ea"
      },
      "execution_count": null,
      "outputs": [
        {
          "output_type": "stream",
          "name": "stdout",
          "text": [
            "Enter your name: areeba\n",
            "Enter a place: karachi\n",
            "Enter an adjective: beutiful\n",
            "Enter a noun: samosa\n",
            "Enter a verb (action): funny\n",
            "Enter an emotion: happy\n",
            "\n",
            "Your Mad Libs Story:\n",
            "\n",
            "Once upon a time, there was a person named areeba who lived in karachi.\n",
            "They had a very beutiful samosa.\n",
            "Every day, they would funny with it.\n",
            "It made them feel so happy!\n",
            "\n",
            "And that's how the adventure of areeba began!\n",
            "\n"
          ]
        }
      ]
    }
  ]
}