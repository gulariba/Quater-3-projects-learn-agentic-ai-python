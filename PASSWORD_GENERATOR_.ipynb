{
  "nbformat": 4,
  "nbformat_minor": 0,
  "metadata": {
    "colab": {
      "provenance": []
    },
    "kernelspec": {
      "name": "python3",
      "display_name": "Python 3"
    },
    "language_info": {
      "name": "python"
    }
  },
  "cells": [
    {
      "cell_type": "code",
      "execution_count": 2,
      "metadata": {
        "colab": {
          "base_uri": "https://localhost:8080/"
        },
        "id": "0toyePNQYu24",
        "outputId": "688a3a8e-d830-481d-c32d-39cb35f0450e"
      },
      "outputs": [
        {
          "output_type": "stream",
          "name": "stdout",
          "text": [
            "Enter the password length: 8\n",
            "Generated password: zrrF/L:&\n"
          ]
        }
      ],
      "source": [
        "# Password Generator in Python 🔑\n",
        "\n",
        "import random\n",
        "import string\n",
        "\n",
        "def generate_password(length):\n",
        "    # Define characters to use in the password\n",
        "    characters = string.ascii_letters + string.digits + string.punctuation\n",
        "\n",
        "    # Generate a random password of the specified length\n",
        "    password = ''.join(random.choice(characters) for i in range(length))\n",
        "\n",
        "    return password\n",
        "\n",
        "# Get password length from user\n",
        "length = int(input(\"Enter the password length: \"))\n",
        "\n",
        "# Generate and display the password\n",
        "password = generate_password(length)\n",
        "print(f\"Generated password: {password}\")\n"
      ]
    }
  ]
}