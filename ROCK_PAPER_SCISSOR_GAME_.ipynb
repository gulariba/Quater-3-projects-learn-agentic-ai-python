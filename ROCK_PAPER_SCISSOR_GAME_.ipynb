{
  "nbformat": 4,
  "nbformat_minor": 0,
  "metadata": {
    "colab": {
      "provenance": []
    },
    "kernelspec": {
      "name": "python3",
      "display_name": "Python 3"
    },
    "language_info": {
      "name": "python"
    }
  },
  "cells": [
    {
      "cell_type": "code",
      "execution_count": 1,
      "metadata": {
        "id": "mYxzFGcNVqjd",
        "colab": {
          "base_uri": "https://localhost:8080/"
        },
        "outputId": "30d8c96b-ed0d-4e73-fb35-039fc49bedfe"
      },
      "outputs": [
        {
          "output_type": "stream",
          "name": "stdout",
          "text": [
            "Let's play Rock, Paper, Scissors!\n",
            "Enter 'rock', 'paper', or 'scissors': rock\n",
            "Computer chooses: scissors\n",
            "🎉 You win!\n"
          ]
        }
      ],
      "source": [
        "# Rock, Paper, Scissors Game 🪨📄✂️\n",
        "import random\n",
        "\n",
        "def rock_paper_scissors():\n",
        "    print(\"Let's play Rock, Paper, Scissors!\")\n",
        "\n",
        "    # User's input\n",
        "    user_choice = input(\"Enter 'rock', 'paper', or 'scissors': \").lower()\n",
        "\n",
        "    # Validating user input\n",
        "    if user_choice not in ['rock', 'paper', 'scissors']:\n",
        "        print(\"Invalid input! Please enter 'rock', 'paper', or 'scissors'.\")\n",
        "        return\n",
        "\n",
        "    # Computer's input\n",
        "    choices = ['rock', 'paper', 'scissors']\n",
        "    computer_choice = random.choice(choices)\n",
        "    print(f\"Computer chooses: {computer_choice}\")\n",
        "\n",
        "    # Determining the winner\n",
        "    if user_choice == computer_choice:\n",
        "        print(\"It's a tie!\")\n",
        "    elif (user_choice == 'rock' and computer_choice == 'scissors') or \\\n",
        "         (user_choice == 'scissors' and computer_choice == 'paper') or \\\n",
        "         (user_choice == 'paper' and computer_choice == 'rock'):\n",
        "        print(\"🎉 You win!\")\n",
        "    else:\n",
        "        print(\"😭 You lose!\")\n",
        "\n",
        "# Calling the function to play\n",
        "rock_paper_scissors()\n"
      ]
    }
  ]
}