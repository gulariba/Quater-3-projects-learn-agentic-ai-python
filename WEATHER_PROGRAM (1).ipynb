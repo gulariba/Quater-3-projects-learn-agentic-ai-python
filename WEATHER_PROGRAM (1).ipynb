{
  "nbformat": 4,
  "nbformat_minor": 0,
  "metadata": {
    "colab": {
      "provenance": []
    },
    "kernelspec": {
      "name": "python3",
      "display_name": "Python 3"
    },
    "language_info": {
      "name": "python"
    }
  },
  "cells": [
    {
      "cell_type": "code",
      "source": [
        "import requests\n",
        "\n",
        "def get_weather(city):\n",
        "    api_key = \"your_api_key_here\"\n",
        "    base_url = \"http://api.openweathermap.org/data/2.5/weather?\"\n",
        "\n",
        "    complete_url = f\"{base_url}q={city}&appid={api_key}&units=metric\"\n",
        "    response = requests.get(complete_url)\n",
        "    data = response.json()\n",
        "\n",
        "    if data[\"cod\"] != \"404\":\n",
        "        main = data[\"main\"]\n",
        "        weather_desc = data[\"weather\"][0][\"description\"]\n",
        "        wind = data[\"wind\"]\n",
        "\n",
        "        print(f\"City: {city}\")\n",
        "        print(f\"Temperature: {main['temp']}°C\")\n",
        "        print(f\"Weather: {weather_desc}\")\n",
        "        print(f\"Humidity: {main['humidity']}%\")\n",
        "        print(f\"Wind Speed: {wind['speed']} m/s\")\n",
        "    else:\n",
        "        print(\"City not found!\")\n",
        "\n",
        "# User input\n",
        "city = input(\"Enter city name: \")\n",
        "get_weather(city)\n"
      ],
      "metadata": {
        "id": "Jep-T95H7KSW"
      },
      "execution_count": null,
      "outputs": []
    }
  ]
}