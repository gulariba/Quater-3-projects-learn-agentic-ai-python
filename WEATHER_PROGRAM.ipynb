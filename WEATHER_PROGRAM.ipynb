{
  "nbformat": 4,
  "nbformat_minor": 0,
  "metadata": {
    "colab": {
      "provenance": []
    },
    "kernelspec": {
      "name": "python3",
      "display_name": "Python 3"
    },
    "language_info": {
      "name": "python"
    }
  },
  "cells": [
    {
      "cell_type": "code",
      "execution_count": 2,
      "metadata": {
        "colab": {
          "base_uri": "https://localhost:8080/",
          "height": 339
        },
        "id": "rKn9efnQ888o",
        "outputId": "acb11d3e-52ae-4502-e967-812ae95ec708"
      },
      "outputs": [
        {
          "name": "stdout",
          "output_type": "stream",
          "text": [
            "Enter city name: karachi\n"
          ]
        },
        {
          "output_type": "error",
          "ename": "KeyError",
          "evalue": "'main'",
          "traceback": [
            "\u001b[0;31m---------------------------------------------------------------------------\u001b[0m",
            "\u001b[0;31mKeyError\u001b[0m                                  Traceback (most recent call last)",
            "\u001b[0;32m<ipython-input-2-bf6300149ec9>\u001b[0m in \u001b[0;36m<cell line: 0>\u001b[0;34m()\u001b[0m\n\u001b[1;32m     49\u001b[0m \u001b[0;31m# Run the program\u001b[0m\u001b[0;34m\u001b[0m\u001b[0;34m\u001b[0m\u001b[0m\n\u001b[1;32m     50\u001b[0m \u001b[0;32mif\u001b[0m \u001b[0m__name__\u001b[0m \u001b[0;34m==\u001b[0m \u001b[0;34m\"__main__\"\u001b[0m\u001b[0;34m:\u001b[0m\u001b[0;34m\u001b[0m\u001b[0;34m\u001b[0m\u001b[0m\n\u001b[0;32m---> 51\u001b[0;31m     \u001b[0mmain\u001b[0m\u001b[0;34m(\u001b[0m\u001b[0;34m)\u001b[0m\u001b[0;34m\u001b[0m\u001b[0;34m\u001b[0m\u001b[0m\n\u001b[0m",
            "\u001b[0;32m<ipython-input-2-bf6300149ec9>\u001b[0m in \u001b[0;36mmain\u001b[0;34m()\u001b[0m\n\u001b[1;32m     45\u001b[0m \u001b[0;34m\u001b[0m\u001b[0m\n\u001b[1;32m     46\u001b[0m     \u001b[0;31m# Get the weather data\u001b[0m\u001b[0;34m\u001b[0m\u001b[0;34m\u001b[0m\u001b[0m\n\u001b[0;32m---> 47\u001b[0;31m     \u001b[0mget_weather\u001b[0m\u001b[0;34m(\u001b[0m\u001b[0mcity_name\u001b[0m\u001b[0;34m,\u001b[0m \u001b[0mapi_key\u001b[0m\u001b[0;34m)\u001b[0m\u001b[0;34m\u001b[0m\u001b[0;34m\u001b[0m\u001b[0m\n\u001b[0m\u001b[1;32m     48\u001b[0m \u001b[0;34m\u001b[0m\u001b[0m\n\u001b[1;32m     49\u001b[0m \u001b[0;31m# Run the program\u001b[0m\u001b[0;34m\u001b[0m\u001b[0;34m\u001b[0m\u001b[0m\n",
            "\u001b[0;32m<ipython-input-2-bf6300149ec9>\u001b[0m in \u001b[0;36mget_weather\u001b[0;34m(city_name, api_key)\u001b[0m\n\u001b[1;32m     18\u001b[0m     \u001b[0;32mif\u001b[0m \u001b[0mdata\u001b[0m\u001b[0;34m[\u001b[0m\u001b[0;34m\"cod\"\u001b[0m\u001b[0;34m]\u001b[0m \u001b[0;34m!=\u001b[0m \u001b[0;34m\"404\"\u001b[0m\u001b[0;34m:\u001b[0m\u001b[0;34m\u001b[0m\u001b[0;34m\u001b[0m\u001b[0m\n\u001b[1;32m     19\u001b[0m         \u001b[0;31m# Extract the main data block\u001b[0m\u001b[0;34m\u001b[0m\u001b[0;34m\u001b[0m\u001b[0m\n\u001b[0;32m---> 20\u001b[0;31m         \u001b[0mmain\u001b[0m \u001b[0;34m=\u001b[0m \u001b[0mdata\u001b[0m\u001b[0;34m[\u001b[0m\u001b[0;34m\"main\"\u001b[0m\u001b[0;34m]\u001b[0m\u001b[0;34m\u001b[0m\u001b[0;34m\u001b[0m\u001b[0m\n\u001b[0m\u001b[1;32m     21\u001b[0m         \u001b[0;31m# Extract the weather data\u001b[0m\u001b[0;34m\u001b[0m\u001b[0;34m\u001b[0m\u001b[0m\n\u001b[1;32m     22\u001b[0m         \u001b[0mweather\u001b[0m \u001b[0;34m=\u001b[0m \u001b[0mdata\u001b[0m\u001b[0;34m[\u001b[0m\u001b[0;34m\"weather\"\u001b[0m\u001b[0;34m]\u001b[0m\u001b[0;34m[\u001b[0m\u001b[0;36m0\u001b[0m\u001b[0;34m]\u001b[0m\u001b[0;34m\u001b[0m\u001b[0;34m\u001b[0m\u001b[0m\n",
            "\u001b[0;31mKeyError\u001b[0m: 'main'"
          ]
        }
      ],
      "source": [
        "import requests\n",
        "\n",
        "# Function to fetch the weather information\n",
        "def get_weather(city_name, api_key):\n",
        "    # URL for the weather API endpoint\n",
        "    base_url = \"http://api.openweathermap.org/data/2.5/weather?\"\n",
        "\n",
        "    # Construct the complete URL with the city and API key\n",
        "    complete_url = base_url + \"q=\" + city_name + \"&appid=\" + api_key + \"&units=metric\"\n",
        "\n",
        "    # Get the response from the API\n",
        "    response = requests.get(complete_url)\n",
        "\n",
        "    # Parse the JSON response\n",
        "    data = response.json()\n",
        "\n",
        "    # Check if the city was found\n",
        "    if data[\"cod\"] != \"404\":\n",
        "        # Extract the main data block\n",
        "        main = data[\"main\"]\n",
        "        # Extract the weather data\n",
        "        weather = data[\"weather\"][0]\n",
        "\n",
        "        # Extract the temperature, pressure, and humidity\n",
        "        temperature = main[\"temp\"]\n",
        "        pressure = main[\"pressure\"]\n",
        "        humidity = main[\"humidity\"]\n",
        "\n",
        "        # Weather description\n",
        "        description = weather[\"description\"]\n",
        "\n",
        "        # Print the weather information\n",
        "        print(f\"Weather in {city_name}:\")\n",
        "        print(f\"Temperature: {temperature}°C\")\n",
        "        print(f\"Pressure: {pressure} hPa\")\n",
        "        print(f\"Humidity: {humidity}%\")\n",
        "        print(f\"Description: {description}\")\n",
        "    else:\n",
        "        print(\"City not found!\")\n",
        "\n",
        "# Main function to take user input and call the weather function\n",
        "def main():\n",
        "    city_name = input(\"Enter city name: \")\n",
        "    api_key = \"your_api_key_here\"  # Replace with your OpenWeatherMap API key\n",
        "\n",
        "    # Get the weather data\n",
        "    get_weather(city_name, api_key)\n",
        "\n",
        "# Run the program\n",
        "if __name__ == \"__main__\":\n",
        "    main()\n"
      ]
    }
  ]
}